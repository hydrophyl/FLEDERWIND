{
  "nbformat": 4,
  "nbformat_minor": 0,
  "metadata": {
    "kernelspec": {
      "display_name": "Python 3",
      "language": "python",
      "name": "python3"
    },
    "language_info": {
      "codemirror_mode": {
        "name": "ipython",
        "version": 3
      },
      "file_extension": ".py",
      "mimetype": "text/x-python",
      "name": "python",
      "nbconvert_exporter": "python",
      "pygments_lexer": "ipython3",
      "version": "3.6.8"
    },
    "colab": {
      "name": "DelNoi.ipynb",
      "provenance": [],
      "include_colab_link": true
    }
  },
  "cells": [
    {
      "cell_type": "markdown",
      "metadata": {
        "id": "view-in-github",
        "colab_type": "text"
      },
      "source": [
        "<a href=\"https://colab.research.google.com/github/hydrophyl/FLEDERWIND/blob/master/DelNoi.ipynb\" target=\"_parent\"><img src=\"https://colab.research.google.com/assets/colab-badge.svg\" alt=\"Open In Colab\"/></a>"
      ]
    },
    {
      "cell_type": "markdown",
      "metadata": {
        "id": "VtKeWOhBm1NU",
        "colab_type": "text"
      },
      "source": [
        "# FLEDERWIND - Radaroptimierung"
      ]
    },
    {
      "cell_type": "markdown",
      "metadata": {
        "id": "57q0zCdEm1NY",
        "colab_type": "text"
      },
      "source": [
        "### Install Conda Virtual Environment"
      ]
    },
    {
      "cell_type": "markdown",
      "metadata": {
        "id": "LBaHUizim1Nd",
        "colab_type": "text"
      },
      "source": [
        "    conda create --name flederwind python=3.8"
      ]
    },
    {
      "cell_type": "markdown",
      "metadata": {
        "id": "4szGVBPwm1Nf",
        "colab_type": "text"
      },
      "source": [
        "### Install dependencies"
      ]
    },
    {
      "cell_type": "markdown",
      "metadata": {
        "id": "Z-SM4Rnjm1Ng",
        "colab_type": "text"
      },
      "source": [
        "    conda install numpy matplotlib Pillow jupyter"
      ]
    },
    {
      "cell_type": "markdown",
      "metadata": {
        "id": "ng1y4uzHm1Ni",
        "colab_type": "text"
      },
      "source": [
        "    pip install opencv-python imutils"
      ]
    },
    {
      "cell_type": "markdown",
      "metadata": {
        "id": "JHp6LTvEm1Nj",
        "colab_type": "text"
      },
      "source": [
        "### Install ffmpeg (optional)  [make one video from a image sequence]"
      ]
    },
    {
      "cell_type": "markdown",
      "metadata": {
        "id": "R-LER-DWm1Nl",
        "colab_type": "text"
      },
      "source": [
        "Follow instructions on this [FFmpeg Windows](http://www.wikihow.com/Install-FFmpeg-on-Windows)\n",
        "\n",
        "FFMPEG Website: [FFmpeg](http://ffmpeg.org)"
      ]
    },
    {
      "cell_type": "markdown",
      "metadata": {
        "id": "uIz1ygF2m1Nm",
        "colab_type": "text"
      },
      "source": [
        "## 1. Filter Script: DelNoi.py "
      ]
    },
    {
      "cell_type": "markdown",
      "metadata": {
        "id": "Tiv2Iyu4m1Nn",
        "colab_type": "text"
      },
      "source": [
        "__Import libraries for the scripts__"
      ]
    },
    {
      "cell_type": "code",
      "metadata": {
        "id": "z0bken0km1Nq",
        "colab_type": "code",
        "colab": {}
      },
      "source": [
        "import time\n",
        "import os\n",
        "import os.path\n",
        "import PIL\n",
        "import numpy\n",
        "from PIL import Image"
      ],
      "execution_count": 0,
      "outputs": []
    },
    {
      "cell_type": "markdown",
      "metadata": {
        "id": "BvJXNx_Km1Nz",
        "colab_type": "text"
      },
      "source": [
        "__Start time counter__"
      ]
    },
    {
      "cell_type": "code",
      "metadata": {
        "id": "W7kIpEHnm1N0",
        "colab_type": "code",
        "colab": {}
      },
      "source": [
        "t0 = time.time()\n",
        "print(\"=\"*80)\n",
        "print(\"Welcome to the Noise Reduction Program! All radar images in the Directory in the python file are going to be converted!\")"
      ],
      "execution_count": 0,
      "outputs": []
    },
    {
      "cell_type": "code",
      "metadata": {
        "scrolled": true,
        "id": "OQgumFI5m1N3",
        "colab_type": "code",
        "colab": {}
      },
      "source": [
        "#Access all images files in directory\n",
        "imageDirectory = \"PNGImages\"  # change here to change the image directory\n",
        "# create a list of filenames in imagesDirectory\n",
        "imagesNameList = [filename for filename in os.listdir(imageDirectory)]\n",
        "imagesNameList.sort()  # sorting namelist a-z"
      ],
      "execution_count": 0,
      "outputs": []
    },
    {
      "cell_type": "markdown",
      "metadata": {
        "id": "SzDBlzCDm1N_",
        "colab_type": "text"
      },
      "source": [
        "__Assuming all image files in directory have the same size, get dimensions of first image__"
      ]
    },
    {
      "cell_type": "code",
      "metadata": {
        "id": "kJn6xdMIm1OA",
        "colab_type": "code",
        "colab": {}
      },
      "source": [
        "imageModel = Image.open(imageDirectory + \"/\" + imagesNameList[0])\n",
        "rows = imageModel.height  # number of rows of pixels\n",
        "columns = imageModel.width  # number of columns of pixels"
      ],
      "execution_count": 0,
      "outputs": []
    },
    {
      "cell_type": "markdown",
      "metadata": {
        "id": "heCPXfVGm1OG",
        "colab_type": "text"
      },
      "source": [
        "__Create a 2D array of integer to store the counter of color's appear__\n",
        "\n",
        "__Assume that all elements of matrix has the value 0__"
      ]
    },
    {
      "cell_type": "code",
      "metadata": {
        "id": "yzW5vsG0m1OH",
        "colab_type": "code",
        "colab": {}
      },
      "source": [
        "counterMatrix = numpy.zeros((rows, columns), dtype=int)"
      ],
      "execution_count": 0,
      "outputs": []
    },
    {
      "cell_type": "markdown",
      "metadata": {
        "id": "HJLXMkWfm1OL",
        "colab_type": "text"
      },
      "source": [
        "__Change this value to change how much images are analyzed to count the noise__"
      ]
    },
    {
      "cell_type": "code",
      "metadata": {
        "id": "utDugJ9Ym1OM",
        "colab_type": "code",
        "colab": {}
      },
      "source": [
        "counter = 100"
      ],
      "execution_count": 0,
      "outputs": []
    },
    {
      "cell_type": "markdown",
      "metadata": {
        "id": "rUQVM9ulm1OZ",
        "colab_type": "text"
      },
      "source": [
        "__The first \"counter\" images is taken to analyse the noise (noise appear in the same spot > 1 times in 100 images)__"
      ]
    },
    {
      "cell_type": "code",
      "metadata": {
        "id": "nm4IYnZSm1Ob",
        "colab_type": "code",
        "colab": {}
      },
      "source": [
        "for indexofImage in range(counter):\n",
        "    image = Image.open(imageDirectory + \"/\" + imagesNameList[indexofImage])\n",
        "    loadedPixelMap = image.load()  # loading the (R,G,B) array of all pixel\n",
        "    # for every columns and rows of matrix\n",
        "    for column in range(columns):\n",
        "        for row in range(rows):\n",
        "            # if pixel is not black -> (!signal) -> add one to counterMatrix on the spot of this pixel\n",
        "            if loadedPixelMap[column, row] != (0, 0, 0):\n",
        "                counterMatrix[row, column] = counterMatrix[row, column] + 1"
      ],
      "execution_count": 0,
      "outputs": []
    },
    {
      "cell_type": "code",
      "metadata": {
        "id": "pcRUXnyCm1Oj",
        "colab_type": "code",
        "colab": {}
      },
      "source": [
        "t1 = time.time()\n",
        "print(\"=\"*80)\n",
        "print(\"Time required: \", t1 - t0)\n",
        "print(\"End of noise counter!\")\n",
        "print()"
      ],
      "execution_count": 0,
      "outputs": []
    },
    {
      "cell_type": "markdown",
      "metadata": {
        "id": "uyqHgtj0m1Oo",
        "colab_type": "text"
      },
      "source": [
        "__Analyze all images in folders and delete the unused colors__"
      ]
    },
    {
      "cell_type": "code",
      "metadata": {
        "id": "GxFcFzoNm1Oq",
        "colab_type": "code",
        "colab": {}
      },
      "source": [
        "for indexofImage in range(len(imagesNameList)):\n",
        "    # Load pixels of an image and go though all pixels\n",
        "    image = Image.open(imageDirectory + \"/\" + imagesNameList[indexofImage])\n",
        "    loadedPixelMap = image.load()\n",
        "    #image.size[columns, rows]\n",
        "    # delete all not interested colors\n",
        "    for column in range(columns):\n",
        "        for row in range(rows):\n",
        "            if loadedPixelMap[column, row] == (70, 70, 70) or \\\n",
        "                    loadedPixelMap[column, row] == (35, 163, 163) or \\\n",
        "                    loadedPixelMap[column, row] == (0, 255, 0) or \\\n",
        "                    loadedPixelMap[column, row] == (255, 170, 0) or \\\n",
        "                    loadedPixelMap[column, row] == (0, 255, 255) or \\\n",
        "                    loadedPixelMap[column, row] == (255, 255, 0) or \\\n",
        "                    loadedPixelMap[column, row] == (0, 157, 157) or \\\n",
        "                    loadedPixelMap[column, row] == (255, 0, 0) or \\\n",
        "                    loadedPixelMap[column, row] == (255, 255, 255):\n",
        "                loadedPixelMap[column, row] = (0, 0, 0)\n",
        "    image.save(imageDirectory + \"/\" + imagesNameList[indexofImage])"
      ],
      "execution_count": 0,
      "outputs": []
    },
    {
      "cell_type": "code",
      "metadata": {
        "id": "HzBo-UE7m1Ov",
        "colab_type": "code",
        "colab": {}
      },
      "source": [
        "t2 = time.time()\n",
        "print(\"=\"*80)\n",
        "print(\"Time required to convert full radar images to yellow signal images: \", t2-t1)\n",
        "print(f\"{len(imagesNameList)} images are converted! Congratulations!\")\n",
        "print()"
      ],
      "execution_count": 0,
      "outputs": []
    },
    {
      "cell_type": "markdown",
      "metadata": {
        "id": "cNzCP1Gzm1O0",
        "colab_type": "text"
      },
      "source": [
        "_**NOTE: not interested color list**_\n",
        "- color: (R,G,B)\n",
        "- lightblue1(coordinates) : (35,163,163)\n",
        "- lightblue2(coordinates) : (0,255,255)\n",
        "- darkblue(radar's lines) : (0,157,157)\n",
        "- green(data numbers) :     (0,255,0)\n",
        "- trueyellow(numbers) :     (255,255,0)\n",
        "- orangeyellow(numbers) :   (255,170,0)\n",
        "- red(time) :               (255,0,0)\n",
        "- gray(background) :        (70,70,70)\n",
        "- white(cursor) :           (255,255,255)"
      ]
    },
    {
      "cell_type": "markdown",
      "metadata": {
        "id": "R6_qdH46m1O2",
        "colab_type": "text"
      },
      "source": [
        "__Read and save the Matrix, \n",
        "then go through all images and delete the Noise__"
      ]
    },
    {
      "cell_type": "code",
      "metadata": {
        "id": "oPHdL8iam1O4",
        "colab_type": "code",
        "colab": {}
      },
      "source": [
        "for indexofImage in range(len(imagesNameList)):\n",
        "    image = Image.open(imageDirectory + \"/\" + imagesNameList[indexofImage])\n",
        "    loadedPixelMap = image.load()\n",
        "    for column in range(columns):  # for all columns\n",
        "        for row in range(rows):  # for all rows\n",
        "            if counterMatrix[row, column] > 1:\n",
        "                # loadedPixelMap[column, row] = (122,122,190) #toggle this line and comment the next line to see the noise\n",
        "                loadedPixelMap[column, row] = (0, 0, 0)\n",
        "    image.save(imageDirectory + \"/\" + imagesNameList[indexofImage])"
      ],
      "execution_count": 0,
      "outputs": []
    },
    {
      "cell_type": "code",
      "metadata": {
        "id": "Y1IsHm9Dm1O9",
        "colab_type": "code",
        "colab": {}
      },
      "source": [
        "t3 = time.time()\n",
        "print(\"=\"*80)\n",
        "print(\"Time required to delete noises to all radar images: \", t3 - t2)\n",
        "print(\"=\"*80)\n",
        "print()\n",
        "print(\"=\"*80)"
      ],
      "execution_count": 0,
      "outputs": []
    },
    {
      "cell_type": "markdown",
      "metadata": {
        "id": "q3RXCw1Pm1PC",
        "colab_type": "text"
      },
      "source": [
        "__!!__ When bmp images are used, change png to bmp with the script changetoBMP.py"
      ]
    },
    {
      "cell_type": "code",
      "metadata": {
        "id": "hIAJ3iaLm1PD",
        "colab_type": "code",
        "colab": {}
      },
      "source": [
        "os.system(\"ffmpeg -framerate 10 -i \" + imageDirectory + \"/\" +\n",
        "          imagesNameList[0][:-7] + \"%03d.png \" + \"Zusammenfassung.mp4\")\n",
        "print(\"All the noise reduced radar images is saved in video ffmpeg.mp4 in 10fps!\")"
      ],
      "execution_count": 0,
      "outputs": []
    },
    {
      "cell_type": "markdown",
      "metadata": {
        "id": "diE6ImO7m1PK",
        "colab_type": "text"
      },
      "source": [
        "Example: we have 300 images and these are named as cap_00000001.png to cap_00000300.png\n",
        "\n",
        "imagesNameList[0] = cap_00000001.png -> imagesNameList[0][:-7] = cap_00000 -> imagesNameList[0][:-7] + \"%03d.png\" = cap_00000001.png to cap_00000999.png *just to 300 because of limited files"
      ]
    },
    {
      "cell_type": "code",
      "metadata": {
        "id": "BxEbBcLWm1PM",
        "colab_type": "code",
        "colab": {}
      },
      "source": [
        "t4 = time.time()\n",
        "print(\"=\"*80)\n",
        "print()\n",
        "print(\"Time required for all processes: \", t4 - t0)\n",
        "print(\"End of DelNoi script!\")"
      ],
      "execution_count": 0,
      "outputs": []
    }
  ]
}