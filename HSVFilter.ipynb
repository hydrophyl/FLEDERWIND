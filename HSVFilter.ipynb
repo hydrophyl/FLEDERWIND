{
  "nbformat": 4,
  "nbformat_minor": 0,
  "metadata": {
    "kernelspec": {
      "display_name": "Python 3",
      "language": "python",
      "name": "python3"
    },
    "language_info": {
      "codemirror_mode": {
        "name": "ipython",
        "version": 3
      },
      "file_extension": ".py",
      "mimetype": "text/x-python",
      "name": "python",
      "nbconvert_exporter": "python",
      "pygments_lexer": "ipython3",
      "version": "3.6.8"
    },
    "colab": {
      "name": "HSVFilter.ipynb",
      "provenance": [],
      "include_colab_link": true
    }
  },
  "cells": [
    {
      "cell_type": "markdown",
      "metadata": {
        "id": "view-in-github",
        "colab_type": "text"
      },
      "source": [
        "<a href=\"https://colab.research.google.com/github/hydrophyl/FLEDERWIND/blob/master/HSVFilter.ipynb\" target=\"_parent\"><img src=\"https://colab.research.google.com/assets/colab-badge.svg\" alt=\"Open In Colab\"/></a>"
      ]
    },
    {
      "cell_type": "markdown",
      "metadata": {
        "id": "vh2vu8EDnHQi",
        "colab_type": "text"
      },
      "source": [
        "# FLEDERWIND - Radaroptimierung"
      ]
    },
    {
      "cell_type": "markdown",
      "metadata": {
        "id": "6l7pBzppnHQp",
        "colab_type": "text"
      },
      "source": [
        "### Install Conda Virtual Environment"
      ]
    },
    {
      "cell_type": "markdown",
      "metadata": {
        "id": "CTqb64W0nHQr",
        "colab_type": "text"
      },
      "source": [
        "    conda create --name flederwind python=3.8"
      ]
    },
    {
      "cell_type": "markdown",
      "metadata": {
        "id": "3Bf75QgynHQu",
        "colab_type": "text"
      },
      "source": [
        "### Install dependencies"
      ]
    },
    {
      "cell_type": "markdown",
      "metadata": {
        "id": "fp_RWvMInHQw",
        "colab_type": "text"
      },
      "source": [
        "    conda install numpy matplotlib Pillow jupyter"
      ]
    },
    {
      "cell_type": "markdown",
      "metadata": {
        "id": "gxM-vF-TnHQy",
        "colab_type": "text"
      },
      "source": [
        "    pip install opencv-python imutils"
      ]
    },
    {
      "cell_type": "markdown",
      "metadata": {
        "id": "qKr_hKaFnHQz",
        "colab_type": "text"
      },
      "source": [
        "### 2. Filter script HSVFilter.py with track bars with OpenCV"
      ]
    },
    {
      "cell_type": "code",
      "metadata": {
        "id": "RywZhWbYnHQ0",
        "colab_type": "code",
        "colab": {}
      },
      "source": [
        "import cv2\n",
        "import imutils\n",
        "import numpy as np\n",
        "import time\n",
        "import datetime"
      ],
      "execution_count": 0,
      "outputs": []
    },
    {
      "cell_type": "markdown",
      "metadata": {
        "id": "UMAoDyggnHQ_",
        "colab_type": "text"
      },
      "source": [
        "### Import video and create tracking bars"
      ]
    },
    {
      "cell_type": "code",
      "metadata": {
        "id": "ngPwA7T1nHRB",
        "colab_type": "code",
        "colab": {}
      },
      "source": [
        "def nothing(x):\n",
        "    pass\n",
        "\n",
        "cv2.namedWindow('Tracking bars')\n",
        "cv2.createTrackbar('H-Unter','image',0,255,nothing)\n",
        "cv2.createTrackbar('S-Unter','image',100,255,nothing)\n",
        "cv2.createTrackbar('V-Unter','image',80,255,nothing)\n",
        "cv2.createTrackbar('H-Ober','image',255,255,nothing)\n",
        "cv2.createTrackbar('S-Ober','image',255,255,nothing)\n",
        "cv2.createTrackbar('V-Ober','image',255,255,nothing)\n",
        "cap = cv2.VideoCapture(\"Videos/ZusammenfassungRadar.mp4\")\n",
        "time.sleep(2)"
      ],
      "execution_count": 0,
      "outputs": []
    },
    {
      "cell_type": "markdown",
      "metadata": {
        "id": "nxR1pbr7nHRI",
        "colab_type": "text"
      },
      "source": [
        "### Show the video and filtered layers"
      ]
    },
    {
      "cell_type": "code",
      "metadata": {
        "id": "Dc0ztERQnHRJ",
        "colab_type": "code",
        "colab": {}
      },
      "source": [
        "while(1):\n",
        "\n",
        "    # Take each frame\n",
        "    _, frame = cap.read()\n",
        "    frame = imutils.resize(frame, width=800)\n",
        "    #frame = cv2.resize(frame1, (640,512), fx=0.5, fy=0.5, interpolation = cv2.INTER_LINEAR)\n",
        "\n",
        "    # Convert BGR to HSV\n",
        "    hsv = cv2.cvtColor(frame, cv2.COLOR_BGR2HSV)\n",
        "    hun = cv2.getTrackbarPos('H-Unter', 'image')\n",
        "    sun = cv2.getTrackbarPos('S-Unter', 'image')\n",
        "    vun = cv2.getTrackbarPos('V-Unter', 'image')\n",
        "    hob = cv2.getTrackbarPos('H-Ober', 'image')\n",
        "    sob = cv2.getTrackbarPos('S-Ober', 'image')\n",
        "    vob = cv2.getTrackbarPos('V-Ober', 'image')\n",
        "\n",
        "    # define range of yellow color in HSV\n",
        "    lower_yellow = np.array([hun, sun, vun])\n",
        "    upper_yellow = np.array([hob, sob, vob])\n",
        "\n",
        "    \"\"\" # define range of knowable yellow niveaus\n",
        "    lower_yellow = np.array([0,100,80])\n",
        "    upper_yellow = np.array([255,255,255]) \"\"\"\n",
        "\n",
        "    # Threshold the HSV image to get only yellow colors\n",
        "    mask = cv2.inRange(hsv, lower_yellow, upper_yellow)\n",
        "\n",
        "    # Bitwise-AND mask and original image\n",
        "    res = cv2.bitwise_and(frame,frame, mask= mask)\n",
        "    \n",
        "    cv2.imshow('frame',frame)\n",
        "    cv2.imshow('mask',mask)\n",
        "    cv2.imshow('res',res)\n",
        "    k = cv2.waitKey(100) & 0xFF\n",
        "    if k == 27:\n",
        "        break\n",
        "\n",
        "cv2.destroyAllWindows()"
      ],
      "execution_count": 0,
      "outputs": []
    }
  ]
}